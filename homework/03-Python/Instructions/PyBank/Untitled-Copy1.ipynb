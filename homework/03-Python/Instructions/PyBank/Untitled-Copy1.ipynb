{
 "cells": [
  {
   "cell_type": "code",
   "execution_count": null,
   "metadata": {},
   "outputs": [],
   "source": [
    "import csv\n",
    "import os\n",
    "#file_numbers=['1','2']\n",
    "#for filenum in file_numbers:\n",
    "#    pybankcsv=os.path.join( 'budget_data_' + filenum + '.csv')\n",
    "total_months= 0\n",
    "total_revenue = 0\n",
    "prev_revenue = 0\n",
    "revenue_change = 0\n",
    "greatest_increase= [\"\",0]\n",
    "greatest_decrease = [\"\", 999999999999]\n",
    "revenue_changes = []\n",
    "csvreader = csv.DictReader(open(\"budget_data_1.csv\"))\n",
    "#with open(pybankcsv,'r') as csvdata:\n",
    "#            csvreader = csv.DictReader(csvdata,delimeter)\n",
    "#             print(csvreader)\n",
    "for row in csvreader:    \n",
    "                total_months= total_months + 1\n",
    "                total_revenue=total_revenue + int(row[\"Revenue\"])\n",
    "#                print(row)\n",
    "                revenue_change=int(row[\"Revenue\"]) - prev_revenue\n",
    "                #print(revenue_change)\n",
    "                prev_revenue = int(row[\"Revenue\"])\n",
    "                if (revenue_change > greatest_increase[1]):\n",
    "                    greatest_increase[1] = revenue_change\n",
    "                    greatest_increase[0]=row[\"Date\"]\n",
    "                if (revenue_change < greatest_decrease[1]):\n",
    "                    greatest_decrease[1] = revenue_change\n",
    "                    greatest_decrease[0]=row[\"Date\"]\n",
    "revenue_changes.append(int(row[\"Revenue\"]))\n",
    "print(\"Total Months: \" + str(total_months))\n",
    "print(\"Totat Revenue: \" +\"$\" + str(total_revenue))\n",
    "print(\"Average Change: \"+ \"$\" + str(round(sum(revenue_changes) / len(revenue_changes),2)))\n",
    "print(\"Greatest Increase: \" + str(greatest_increase[0] + \" ($\" + str(greatest_increase[1]) + \")\"))\n",
    "print(\"Greatest Decrease: \" + str(greatest_decrease[0] + \" ($\" + str(greatest_decrease[1]) + \")\"))"
   ]
  },
  {
   "cell_type": "code",
   "execution_count": 28,
   "metadata": {},
   "outputs": [
    {
     "name": "stdout",
     "output_type": "stream",
     "text": [
      "Average Change: $883934.0\n"
     ]
    }
   ],
   "source": [
    "print(\"Average Change: \"+ \"$\" + str(round(sum(revenue_changes) / len(revenue_changes),2)))"
   ]
  },
  {
   "cell_type": "code",
   "execution_count": 29,
   "metadata": {},
   "outputs": [
    {
     "ename": "SyntaxError",
     "evalue": "unexpected EOF while parsing (<ipython-input-29-9a894e8fdc7e>, line 2)",
     "output_type": "error",
     "traceback": [
      "\u001b[1;36m  File \u001b[1;32m\"<ipython-input-29-9a894e8fdc7e>\"\u001b[1;36m, line \u001b[1;32m2\u001b[0m\n\u001b[1;33m    \u001b[0m\n\u001b[1;37m    ^\u001b[0m\n\u001b[1;31mSyntaxError\u001b[0m\u001b[1;31m:\u001b[0m unexpected EOF while parsing\n"
     ]
    }
   ],
   "source": [
    "print(\"Greatest Increase: \" + str(greatest_increase[0] + \" ($\" + str(greatest_increase[1]) + \")\")\n",
    "      "
   ]
  },
  {
   "cell_type": "code",
   "execution_count": 30,
   "metadata": {},
   "outputs": [
    {
     "ename": "SyntaxError",
     "evalue": "unexpected EOF while parsing (<ipython-input-30-0ed181d2e6d9>, line 1)",
     "output_type": "error",
     "traceback": [
      "\u001b[1;36m  File \u001b[1;32m\"<ipython-input-30-0ed181d2e6d9>\"\u001b[1;36m, line \u001b[1;32m1\u001b[0m\n\u001b[1;33m    print(\"Greatest Increase: \" + str(greatest_increase[0] + \" ($\" + str(greatest_increase[1]) + \")\")\u001b[0m\n\u001b[1;37m                                                                                                     ^\u001b[0m\n\u001b[1;31mSyntaxError\u001b[0m\u001b[1;31m:\u001b[0m unexpected EOF while parsing\n"
     ]
    }
   ],
   "source": [
    "print(\"Greatest Increase: \" + str(greatest_increase[0] + \" ($\" + str(greatest_increase[1]) + \")\")"
   ]
  },
  {
   "cell_type": "code",
   "execution_count": 31,
   "metadata": {},
   "outputs": [
    {
     "name": "stdout",
     "output_type": "stream",
     "text": [
      "Greatest Increase: Feb-16 ($1837235)\n"
     ]
    }
   ],
   "source": [
    "print(\"Greatest Increase: \" + str(greatest_increase[0] + \" ($\" + str(greatest_increase[1]) + \")\"))"
   ]
  },
  {
   "cell_type": "code",
   "execution_count": null,
   "metadata": {
    "collapsed": true
   },
   "outputs": [],
   "source": []
  }
 ],
 "metadata": {
  "kernelspec": {
   "display_name": "Python 3",
   "language": "python",
   "name": "python3"
  },
  "language_info": {
   "codemirror_mode": {
    "name": "ipython",
    "version": 3
   },
   "file_extension": ".py",
   "mimetype": "text/x-python",
   "name": "python",
   "nbconvert_exporter": "python",
   "pygments_lexer": "ipython3",
   "version": "3.6.3"
  }
 },
 "nbformat": 4,
 "nbformat_minor": 2
}
