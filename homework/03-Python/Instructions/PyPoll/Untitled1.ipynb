{
 "cells": [
  {
   "cell_type": "code",
   "execution_count": 16,
   "metadata": {},
   "outputs": [
    {
     "name": "stdout",
     "output_type": "stream",
     "text": [
      "\n",
      "\n",
      "\n",
      "Election Results\n",
      "-------------------------\n",
      "Total Votes 3521001\n",
      "-------------------------\n",
      "Khan 63% (2218231)\n",
      "Correy 20% (704200)\n",
      "Li 14% (492940)\n",
      "O'Tooley 3% (105630)\n",
      "-------------------------\n",
      "Winner: Khan\n",
      "-------------------------\n"
     ]
    }
   ],
   "source": [
    "import csv\n",
    "#from collections import OrderedDict\n",
    "import operator \n",
    "#file_numbers=['1','2']\n",
    "#for filenum in file_numbers:\n",
    "#    pybankcsv=os.path.join( 'budget_data_' + filenum + '.csv')\n",
    "file_to_load = \"raw_data/election_data_2.csv\"\n",
    "\n",
    "votes = 0\n",
    "winner_votes = 0\n",
    "total_candidates = 0\n",
    "greatest_votes = [\"\", 0]\n",
    "candidate_options = []\n",
    "candidate_votes = {}\n",
    "\n",
    "\n",
    "with open(file_to_load) as election_data:\n",
    "    reader = csv.DictReader(election_data)\n",
    "\n",
    "    for row in reader:\n",
    "        votes = votes + 1\n",
    "        total_candidates = row[\"Candidate\"]        \n",
    "\n",
    "        if row[\"Candidate\"] not in candidate_options:\n",
    "            \n",
    "            candidate_options.append(row[\"Candidate\"])\n",
    "\n",
    "            candidate_votes[row[\"Candidate\"]] = 1\n",
    "            \n",
    "        else:\n",
    "#            candidate_votes[row[\"Candidate\"]] = candidate_votes[row[\"Candidate\"]] + 1\n",
    "            candidate_votes[row[\"Candidate\"]] += 1            \n",
    "#----------------------------------------------------------------------------------------\n",
    "    # Determine the Winner:\n",
    "    #if (votes > winner_votes[2]):\n",
    "     #   greatest_increase[1] = revenue_change\n",
    "      #  greatest_increase[0] = row[\"Candidate\"]\n",
    "#----------------------------------------------------------------------------------------\n",
    "    \n",
    "    print()\n",
    "    print()\n",
    "    print()\n",
    "    print(\"Election Results\")\n",
    "    print(\"-------------------------\")\n",
    "    print(\"Total Votes \" + str(votes))\n",
    "    print(\"-------------------------\")\n",
    "#results\n",
    "    for candidate in candidate_votes:\n",
    "        print(candidate + \" \" + str(round(((candidate_votes[candidate]/votes)*100))) + \"%\" + \" (\" + str(candidate_votes[candidate]) + \")\") \n",
    "        candidate_results = (candidate + \" \" + str(round(((candidate_votes[candidate]/votes)*100))) + \"%\" + \" (\" + str(candidate_votes[candidate]) + \")\") \n",
    "    \n",
    "candidate_votes\n",
    "\n",
    "winner = sorted(candidate_votes.items(), key=itemgetter(1), reverse=True)\n",
    "\n",
    "#print(\"WINNERTEST: \" + str(winner_name[0]))\n",
    "\n",
    "\n",
    "#print (\"WINNER: \" + str(winner_name.split(\",\"))\n",
    "\n",
    "\n",
    "#results\n",
    "print(\"-------------------------\")\n",
    "print(\"Winner: \" + str(winner[0][0]))\n",
    "print(\"-------------------------\")\n",
    "\n"
   ]
  },
  {
   "cell_type": "code",
   "execution_count": 8,
   "metadata": {},
   "outputs": [
    {
     "name": "stdout",
     "output_type": "stream",
     "text": [
      "<class 'tuple'>\n"
     ]
    }
   ],
   "source": [
    "print(type(winner[0]))"
   ]
  },
  {
   "cell_type": "code",
   "execution_count": 9,
   "metadata": {},
   "outputs": [
    {
     "name": "stdout",
     "output_type": "stream",
     "text": [
      "('Vestal', 385440)\n"
     ]
    }
   ],
   "source": [
    "print(winner[0])"
   ]
  },
  {
   "cell_type": "code",
   "execution_count": 11,
   "metadata": {},
   "outputs": [
    {
     "name": "stdout",
     "output_type": "stream",
     "text": [
      "Vestal\n"
     ]
    }
   ],
   "source": [
    "print(winner[0][0])"
   ]
  },
  {
   "cell_type": "code",
   "execution_count": null,
   "metadata": {
    "collapsed": true
   },
   "outputs": [],
   "source": []
  }
 ],
 "metadata": {
  "kernelspec": {
   "display_name": "Python 3",
   "language": "python",
   "name": "python3"
  },
  "language_info": {
   "codemirror_mode": {
    "name": "ipython",
    "version": 3
   },
   "file_extension": ".py",
   "mimetype": "text/x-python",
   "name": "python",
   "nbconvert_exporter": "python",
   "pygments_lexer": "ipython3",
   "version": "3.6.3"
  }
 },
 "nbformat": 4,
 "nbformat_minor": 2
}
